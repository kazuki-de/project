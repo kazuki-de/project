{
 "cells": [
  {
   "cell_type": "code",
   "execution_count": 1,
   "metadata": {
    "colab": {
     "base_uri": "https://localhost:8080/",
     "height": 3162
    },
    "colab_type": "code",
    "executionInfo": {
     "elapsed": 235971,
     "status": "ok",
     "timestamp": 1551754899600,
     "user": {
      "displayName": "Hatanaka Miho",
      "photoUrl": "",
      "userId": "05760998144601449252"
     },
     "user_tz": -540
    },
    "id": "aQTcs2bsyPiq",
    "outputId": "528cfc07-fc72-4c01-8b08-d896546f203a"
   },
   "outputs": [
    {
     "name": "stdout",
     "output_type": "stream",
     "text": [
      "--2019-03-05 02:57:45--  https://repo.continuum.io/miniconda/Miniconda3-latest-Linux-x86_64.sh\n",
      "Resolving repo.continuum.io (repo.continuum.io)... 104.18.201.79, 104.18.200.79, 2606:4700::6812:c94f, ...\n",
      "Connecting to repo.continuum.io (repo.continuum.io)|104.18.201.79|:443... connected.\n",
      "HTTP request sent, awaiting response... 200 OK\n",
      "Length: 69826864 (67M) [application/x-sh]\n",
      "Saving to: ‘Miniconda3-latest-Linux-x86_64.sh’\n",
      "\n",
      "Miniconda3-latest-L 100%[===================>]  66.59M   136MB/s    in 0.5s    \n",
      "\n",
      "2019-03-05 02:57:50 (136 MB/s) - ‘Miniconda3-latest-Linux-x86_64.sh’ saved [69826864/69826864]\n",
      "\n",
      "PREFIX=/usr/local\n",
      "reinstalling: python-3.7.1-h0371630_7 ...\n",
      "Python 3.7.1\n",
      "reinstalling: ca-certificates-2018.03.07-0 ...\n",
      "reinstalling: conda-env-2.6.0-1 ...\n",
      "reinstalling: libgcc-ng-8.2.0-hdf63c60_1 ...\n",
      "reinstalling: libstdcxx-ng-8.2.0-hdf63c60_1 ...\n",
      "reinstalling: libffi-3.2.1-hd88cf55_4 ...\n",
      "reinstalling: ncurses-6.1-he6710b0_1 ...\n",
      "reinstalling: openssl-1.1.1a-h7b6447c_0 ...\n",
      "reinstalling: xz-5.2.4-h14c3975_4 ...\n",
      "reinstalling: yaml-0.1.7-had09818_2 ...\n",
      "reinstalling: zlib-1.2.11-h7b6447c_3 ...\n",
      "reinstalling: libedit-3.1.20170329-h6b74fdf_2 ...\n",
      "reinstalling: readline-7.0-h7b6447c_5 ...\n",
      "reinstalling: tk-8.6.8-hbc83047_0 ...\n",
      "reinstalling: sqlite-3.26.0-h7b6447c_0 ...\n",
      "reinstalling: asn1crypto-0.24.0-py37_0 ...\n",
      "reinstalling: certifi-2018.11.29-py37_0 ...\n",
      "reinstalling: chardet-3.0.4-py37_1 ...\n",
      "reinstalling: idna-2.8-py37_0 ...\n",
      "reinstalling: pycosat-0.6.3-py37h14c3975_0 ...\n",
      "reinstalling: pycparser-2.19-py37_0 ...\n",
      "reinstalling: pysocks-1.6.8-py37_0 ...\n",
      "reinstalling: ruamel_yaml-0.15.46-py37h14c3975_0 ...\n",
      "reinstalling: six-1.12.0-py37_0 ...\n",
      "reinstalling: cffi-1.11.5-py37he75722e_1 ...\n",
      "reinstalling: setuptools-40.6.3-py37_0 ...\n",
      "reinstalling: cryptography-2.4.2-py37h1ba5d50_0 ...\n",
      "reinstalling: wheel-0.32.3-py37_0 ...\n",
      "reinstalling: pip-18.1-py37_0 ...\n",
      "reinstalling: pyopenssl-18.0.0-py37_0 ...\n",
      "reinstalling: urllib3-1.24.1-py37_0 ...\n",
      "reinstalling: requests-2.21.0-py37_0 ...\n",
      "reinstalling: conda-4.5.12-py37_0 ...\n",
      "installation finished.\n",
      "WARNING:\n",
      "    You currently have a PYTHONPATH environment variable set. This may cause\n",
      "    unexpected behavior when running the Python interpreter in Miniconda3.\n",
      "    For best results, please verify that your PYTHONPATH only points to\n",
      "    directories of packages that are compatible with the Python interpreter\n",
      "    in Miniconda3: /usr/local\n",
      "\n",
      "real\t0m18.231s\n",
      "user\t0m16.119s\n",
      "sys\t0m3.478s\n",
      "Solving environment: ...working... done\n",
      "\n",
      "## Package Plan ##\n",
      "\n",
      "  environment location: /usr/local\n",
      "\n",
      "  added / updated specs: \n",
      "    - rdkit\n",
      "\n",
      "\n",
      "The following packages will be downloaded:\n",
      "\n",
      "    package                    |            build\n",
      "    ---------------------------|-----------------\n",
      "    bzip2-1.0.6                |    h14c3975_1002         415 KB  conda-forge\n",
      "    conda-4.6.7                |           py37_0         877 KB  conda-forge\n",
      "    jpeg-9c                    |    h14c3975_1001         251 KB  conda-forge\n",
      "    pthread-stubs-0.4          |    h14c3975_1001           5 KB  conda-forge\n",
      "    cairo-1.16.0               |    ha4e643d_1000         1.5 MB  conda-forge\n",
      "    mkl_fft-1.0.10             |   py37h14c3975_1         166 KB  conda-forge\n",
      "    xorg-libxrender-0.9.10     |    h14c3975_1002          31 KB  conda-forge\n",
      "    xorg-libxext-1.3.3         |    h14c3975_1004          46 KB  conda-forge\n",
      "    xorg-kbproto-1.0.7         |    h14c3975_1002          26 KB  conda-forge\n",
      "    mkl_random-1.0.2           |   py37h637b7d7_2         373 KB  conda-forge\n",
      "    pixman-0.34.0              |    h14c3975_1003         595 KB  conda-forge\n",
      "    pycairo-1.18.0             |   py37h2a1e443_0          74 KB\n",
      "    libtiff-4.0.10             |    h648cc4a_1001         592 KB  conda-forge\n",
      "    openssl-1.1.1b             |       h14c3975_0         4.0 MB  conda-forge\n",
      "    xorg-libxau-1.0.9          |       h14c3975_0          13 KB  conda-forge\n",
      "    boost-cpp-1.68.0           |    h11c811c_1000        20.5 MB  conda-forge\n",
      "    freetype-2.9.1             |    h94bbf69_1005         827 KB  conda-forge\n",
      "    xorg-libxdmcp-1.1.2        |    h14c3975_1007          18 KB  conda-forge\n",
      "    mkl-2019.1                 |              144       204.6 MB\n",
      "    xorg-xproto-7.0.31         |    h14c3975_1007          72 KB  conda-forge\n",
      "    xorg-libx11-1.6.7          |    h14c3975_1000         940 KB  conda-forge\n",
      "    xorg-renderproto-0.11.1    |    h14c3975_1002           8 KB  conda-forge\n",
      "    intel-openmp-2019.1        |              144         885 KB\n",
      "    pillow-5.3.0               |py37h00a061d_1000         595 KB  conda-forge\n",
      "    xorg-xextproto-7.3.0       |    h14c3975_1002          27 KB  conda-forge\n",
      "    boost-1.68.0               |py37h8619c78_1001         310 KB  conda-forge\n",
      "    certifi-2018.11.29         |        py37_1000         145 KB  conda-forge\n",
      "    numpy-1.16.2               |   py37h7e9f1db_0          49 KB\n",
      "    libxcb-1.13                |    h14c3975_1002         396 KB  conda-forge\n",
      "    fontconfig-2.13.1          |    h2176d3f_1000         334 KB  conda-forge\n",
      "    python-dateutil-2.8.0      |             py_0         219 KB  conda-forge\n",
      "    olefile-0.46               |             py_0          31 KB  conda-forge\n",
      "    glib-2.58.3                |    hf63aee3_1001         3.3 MB  conda-forge\n",
      "    pandas-0.24.1              |   py37hf484d3e_0        11.1 MB  conda-forge\n",
      "    ca-certificates-2018.11.29 |       ha4d7672_0         143 KB  conda-forge\n",
      "    blas-1.0                   |              mkl           6 KB\n",
      "    pcre-8.41                  |    hf484d3e_1003         249 KB  conda-forge\n",
      "    numpy-base-1.16.2          |   py37hde5b4d6_0         4.3 MB\n",
      "    rdkit-2018.09.2            |   py37h270f4b7_0        20.0 MB  conda-forge\n",
      "    libgfortran-ng-7.2.0       |       hdf63c60_3         1.2 MB  conda-forge\n",
      "    libuuid-2.32.1             |    h14c3975_1000          26 KB  conda-forge\n",
      "    xorg-libice-1.0.9          |    h14c3975_1004          57 KB  conda-forge\n",
      "    xorg-libsm-1.2.3           |    h4937e3b_1000          25 KB  conda-forge\n",
      "    libpng-1.6.36              |    h84994c4_1000         303 KB  conda-forge\n",
      "    pytz-2018.9                |             py_0         229 KB  conda-forge\n",
      "    libiconv-1.15              |    h14c3975_1004         2.0 MB  conda-forge\n",
      "    gettext-0.19.8.1           |    h9745a5d_1001         3.7 MB  conda-forge\n",
      "    icu-58.2                   |    hf484d3e_1000        22.6 MB  conda-forge\n",
      "    libxml2-2.9.8              |    h143f9aa_1005         2.0 MB  conda-forge\n",
      "    ------------------------------------------------------------\n",
      "                                           Total:       309.9 MB\n",
      "\n",
      "The following NEW packages will be INSTALLED:\n",
      "\n",
      "    blas:             1.0-mkl                             \n",
      "    boost:            1.68.0-py37h8619c78_1001 conda-forge\n",
      "    boost-cpp:        1.68.0-h11c811c_1000     conda-forge\n",
      "    bzip2:            1.0.6-h14c3975_1002      conda-forge\n",
      "    cairo:            1.16.0-ha4e643d_1000     conda-forge\n",
      "    fontconfig:       2.13.1-h2176d3f_1000     conda-forge\n",
      "    freetype:         2.9.1-h94bbf69_1005      conda-forge\n",
      "    gettext:          0.19.8.1-h9745a5d_1001   conda-forge\n",
      "    glib:             2.58.3-hf63aee3_1001     conda-forge\n",
      "    icu:              58.2-hf484d3e_1000       conda-forge\n",
      "    intel-openmp:     2019.1-144                          \n",
      "    jpeg:             9c-h14c3975_1001         conda-forge\n",
      "    libgfortran-ng:   7.2.0-hdf63c60_3         conda-forge\n",
      "    libiconv:         1.15-h14c3975_1004       conda-forge\n",
      "    libpng:           1.6.36-h84994c4_1000     conda-forge\n",
      "    libtiff:          4.0.10-h648cc4a_1001     conda-forge\n",
      "    libuuid:          2.32.1-h14c3975_1000     conda-forge\n",
      "    libxcb:           1.13-h14c3975_1002       conda-forge\n",
      "    libxml2:          2.9.8-h143f9aa_1005      conda-forge\n",
      "    mkl:              2019.1-144                          \n",
      "    mkl_fft:          1.0.10-py37h14c3975_1    conda-forge\n",
      "    mkl_random:       1.0.2-py37h637b7d7_2     conda-forge\n",
      "    numpy:            1.16.2-py37h7e9f1db_0               \n",
      "    numpy-base:       1.16.2-py37hde5b4d6_0               \n",
      "    olefile:          0.46-py_0                conda-forge\n",
      "    pandas:           0.24.1-py37hf484d3e_0    conda-forge\n",
      "    pcre:             8.41-hf484d3e_1003       conda-forge\n",
      "    pillow:           5.3.0-py37h00a061d_1000  conda-forge\n",
      "    pixman:           0.34.0-h14c3975_1003     conda-forge\n",
      "    pthread-stubs:    0.4-h14c3975_1001        conda-forge\n",
      "    pycairo:          1.18.0-py37h2a1e443_0               \n",
      "    python-dateutil:  2.8.0-py_0               conda-forge\n",
      "    pytz:             2018.9-py_0              conda-forge\n",
      "    rdkit:            2018.09.2-py37h270f4b7_0 conda-forge\n",
      "    xorg-kbproto:     1.0.7-h14c3975_1002      conda-forge\n",
      "    xorg-libice:      1.0.9-h14c3975_1004      conda-forge\n",
      "    xorg-libsm:       1.2.3-h4937e3b_1000      conda-forge\n",
      "    xorg-libx11:      1.6.7-h14c3975_1000      conda-forge\n",
      "    xorg-libxau:      1.0.9-h14c3975_0         conda-forge\n",
      "    xorg-libxdmcp:    1.1.2-h14c3975_1007      conda-forge\n",
      "    xorg-libxext:     1.3.3-h14c3975_1004      conda-forge\n",
      "    xorg-libxrender:  0.9.10-h14c3975_1002     conda-forge\n",
      "    xorg-renderproto: 0.11.1-h14c3975_1002     conda-forge\n",
      "    xorg-xextproto:   7.3.0-h14c3975_1002      conda-forge\n",
      "    xorg-xproto:      7.0.31-h14c3975_1007     conda-forge\n",
      "\n",
      "The following packages will be UPDATED:\n",
      "\n",
      "    ca-certificates:  2018.03.07-0                         --> 2018.11.29-ha4d7672_0 conda-forge\n",
      "    certifi:          2018.11.29-py37_0                    --> 2018.11.29-py37_1000  conda-forge\n",
      "    conda:            4.5.12-py37_0                        --> 4.6.7-py37_0          conda-forge\n",
      "    openssl:          1.1.1a-h7b6447c_0                    --> 1.1.1b-h14c3975_0     conda-forge\n",
      "\n",
      "Preparing transaction: ...working... done\n",
      "Verifying transaction: ...working... done\n",
      "Executing transaction: ...working... done\n",
      "\n",
      "real\t3m25.667s\n",
      "user\t2m13.724s\n",
      "sys\t0m9.863s\n"
     ]
    }
   ],
   "source": [
    "!wget -c https://repo.continuum.io/miniconda/Miniconda3-latest-Linux-x86_64.sh\n",
    "!chmod +x Miniconda3-latest-Linux-x86_64.sh\n",
    "!time bash ./Miniconda3-latest-Linux-x86_64.sh -b -f -p /usr/local\n",
    "!time conda install -q -y -c conda-forge rdkit"
   ]
  },
  {
   "cell_type": "code",
   "execution_count": 0,
   "metadata": {
    "colab": {},
    "colab_type": "code",
    "id": "q6ou5TozyQWc"
   },
   "outputs": [],
   "source": [
    "import sys\n",
    "import os\n",
    "sys.path.append('/usr/local/lib/python3.7/site-packages')"
   ]
  },
  {
   "cell_type": "code",
   "execution_count": 3,
   "metadata": {
    "colab": {
     "base_uri": "https://localhost:8080/",
     "height": 102
    },
    "colab_type": "code",
    "executionInfo": {
     "elapsed": 529,
     "status": "ok",
     "timestamp": 1551754973717,
     "user": {
      "displayName": "Hatanaka Miho",
      "photoUrl": "",
      "userId": "05760998144601449252"
     },
     "user_tz": -540
    },
    "id": "XjIInAZhzbNL",
    "outputId": "7778d595-aff8-466c-f320-154885dd2d2c"
   },
   "outputs": [
    {
     "name": "stdout",
     "output_type": "stream",
     "text": [
      " A module for molecules and stuff\n",
      "\n",
      " see Chem/index.html in the doc tree for documentation\n",
      "\n",
      "\n"
     ]
    }
   ],
   "source": [
    "import numpy as np\n",
    "import pandas as pd\n",
    "import rdkit\n",
    "from rdkit import Chem\n",
    "# from rdkit import Chem\n",
    "\n",
    "print(Chem.__doc__)"
   ]
  },
  {
   "cell_type": "code",
   "execution_count": 0,
   "metadata": {
    "colab": {},
    "colab_type": "code",
    "id": "rh02IQLDzc_D"
   },
   "outputs": [],
   "source": [
    "import pandas as pd\n",
    "import numpy as np\n",
    "from numpy import vectorize as vec\n",
    "import scipy as sp\n",
    "import sklearn\n",
    "from sklearn.model_selection import train_test_split\n",
    "import matplotlib\n",
    "import matplotlib.pyplot as plt\n",
    "%matplotlib inline\n",
    "import seaborn as sns\n",
    "\n",
    "from rdkit import Chem\n",
    "from rdkit.Chem.Draw import IPythonConsole\n",
    "from rdkit.Chem import Descriptors,PandasTools\n"
   ]
  },
  {
   "cell_type": "code",
   "execution_count": 5,
   "metadata": {
    "colab": {
     "base_uri": "https://localhost:8080/",
     "height": 79,
     "resources": {
      "http://localhost:8080/nbextensions/google.colab/files.js": {
       "data": "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",
       "headers": [
        [
         "content-type",
         "application/javascript"
        ]
       ],
       "ok": true,
       "status": 200,
       "status_text": ""
      }
     }
    },
    "colab_type": "code",
    "executionInfo": {
     "elapsed": 189895,
     "status": "ok",
     "timestamp": 1551755270881,
     "user": {
      "displayName": "Hatanaka Miho",
      "photoUrl": "",
      "userId": "05760998144601449252"
     },
     "user_tz": -540
    },
    "id": "O61XK6xazojr",
    "outputId": "d2dec0a5-c4d9-4f21-ddd4-91010532e045"
   },
   "outputs": [
    {
     "data": {
      "text/html": [
       "\n",
       "     <input type=\"file\" id=\"files-cdc8a3db-7cfe-404e-a19f-ca7abfdfe919\" name=\"files[]\" multiple disabled />\n",
       "     <output id=\"result-cdc8a3db-7cfe-404e-a19f-ca7abfdfe919\">\n",
       "      Upload widget is only available when the cell has been executed in the\n",
       "      current browser session. Please rerun this cell to enable.\n",
       "      </output>\n",
       "      <script src=\"/nbextensions/google.colab/files.js\"></script> "
      ],
      "text/plain": [
       "<IPython.core.display.HTML object>"
      ]
     },
     "metadata": {
      "tags": []
     },
     "output_type": "display_data"
    },
    {
     "name": "stdout",
     "output_type": "stream",
     "text": [
      "Saving nr-ar.sdf to nr-ar.sdf\n"
     ]
    }
   ],
   "source": [
    "from google.colab import files\n",
    "uploaded = files.upload()"
   ]
  },
  {
   "cell_type": "code",
   "execution_count": 7,
   "metadata": {
    "colab": {
     "base_uri": "https://localhost:8080/",
     "height": 306
    },
    "colab_type": "code",
    "executionInfo": {
     "elapsed": 17018,
     "status": "ok",
     "timestamp": 1551755310004,
     "user": {
      "displayName": "Hatanaka Miho",
      "photoUrl": "",
      "userId": "05760998144601449252"
     },
     "user_tz": -540
    },
    "id": "YTfUGD5Yz3TV",
    "outputId": "28336b97-04d7-43ea-9fd0-076aca94c565"
   },
   "outputs": [
    {
     "name": "stderr",
     "output_type": "stream",
     "text": [
      "RDKit ERROR: [03:08:17] Explicit valence for atom # 2 Si, 8, is greater than permitted\n",
      "RDKit ERROR: [03:08:17] ERROR: Could not sanitize molecule ending on line 153869\n",
      "RDKit ERROR: [03:08:17] ERROR: Explicit valence for atom # 2 Si, 8, is greater than permitted\n",
      "RDKit ERROR: [03:08:19] Explicit valence for atom # 3 Cl, 2, is greater than permitted\n",
      "RDKit ERROR: [03:08:19] ERROR: Could not sanitize molecule ending on line 223779\n",
      "RDKit WARNING: [03:08:20] Warning: conflicting stereochemistry at atom 9 ignored.\n",
      "RDKit WARNING: [03:08:20] Warning: conflicting stereochemistry at atom 9 ignored.\n",
      "RDKit ERROR: [03:08:19] ERROR: Explicit valence for atom # 3 Cl, 2, is greater than permitted\n",
      "RDKit ERROR: [03:08:22] Explicit valence for atom # 1 Cl, 2, is greater than permitted\n",
      "RDKit ERROR: [03:08:22] ERROR: Could not sanitize molecule ending on line 339188\n",
      "RDKit WARNING: [03:08:23] WARNING: not removing hydrogen atom without neighbors\n",
      "RDKit ERROR: [03:08:22] ERROR: Explicit valence for atom # 1 Cl, 2, is greater than permitted\n",
      "RDKit ERROR: [03:08:26] Explicit valence for atom # 2 Si, 8, is greater than permitted\n",
      "RDKit ERROR: [03:08:26] ERROR: Could not sanitize molecule ending on line 451962\n",
      "RDKit ERROR: [03:08:26] ERROR: Explicit valence for atom # 2 Si, 8, is greater than permitted\n",
      "RDKit ERROR: [03:08:28] Explicit valence for atom # 3 Mg, 4, is greater than permitted\n",
      "RDKit ERROR: [03:08:28] ERROR: Could not sanitize molecule ending on line 498149\n"
     ]
    }
   ],
   "source": [
    "mols=PandasTools.LoadSDF('nr-ar.sdf',smilesName='SMILES',molColName='Molecule',includeFingerprints=True)\n"
   ]
  },
  {
   "cell_type": "code",
   "execution_count": 8,
   "metadata": {
    "colab": {
     "base_uri": "https://localhost:8080/",
     "height": 34
    },
    "colab_type": "code",
    "executionInfo": {
     "elapsed": 608,
     "status": "ok",
     "timestamp": 1551755346550,
     "user": {
      "displayName": "Hatanaka Miho",
      "photoUrl": "",
      "userId": "05760998144601449252"
     },
     "user_tz": -540
    },
    "id": "sla5QqE50oGz",
    "outputId": "281c47a8-627c-4063-b82a-90c99c62232d"
   },
   "outputs": [
    {
     "data": {
      "text/plain": [
       "Index(['Active', 'DSSTox_CID', 'FW', 'Formula', 'ID', 'Molecule', 'SMILES'], dtype='object')"
      ]
     },
     "execution_count": 8,
     "metadata": {
      "tags": []
     },
     "output_type": "execute_result"
    }
   ],
   "source": [
    "mols.columns"
   ]
  },
  {
   "cell_type": "code",
   "execution_count": 9,
   "metadata": {
    "colab": {
     "base_uri": "https://localhost:8080/",
     "height": 34
    },
    "colab_type": "code",
    "executionInfo": {
     "elapsed": 505,
     "status": "ok",
     "timestamp": 1551755351843,
     "user": {
      "displayName": "Hatanaka Miho",
      "photoUrl": "",
      "userId": "05760998144601449252"
     },
     "user_tz": -540
    },
    "id": "L_tydUgi03_L",
    "outputId": "0de97e23-d9bc-416e-c5e1-c6cc2a4e802d"
   },
   "outputs": [
    {
     "data": {
      "text/plain": [
       "(9357, 7)"
      ]
     },
     "execution_count": 9,
     "metadata": {
      "tags": []
     },
     "output_type": "execute_result"
    }
   ],
   "source": [
    "mols.shape"
   ]
  },
  {
   "cell_type": "code",
   "execution_count": 10,
   "metadata": {
    "colab": {
     "base_uri": "https://localhost:8080/",
     "height": 51
    },
    "colab_type": "code",
    "executionInfo": {
     "elapsed": 494,
     "status": "ok",
     "timestamp": 1551755361804,
     "user": {
      "displayName": "Hatanaka Miho",
      "photoUrl": "",
      "userId": "05760998144601449252"
     },
     "user_tz": -540
    },
    "id": "792sJXWc05Tb",
    "outputId": "04cca895-4135-46e8-ca69-96e5cb2beacf"
   },
   "outputs": [
    {
     "name": "stdout",
     "output_type": "stream",
     "text": [
      "Number of   active molecules:   380\n",
      "Number of inactive molecules:   8977\n"
     ]
    }
   ],
   "source": [
    "print(\"Number of   active molecules:  \", list(mols.Active).count('1'))  #Active\n",
    "print(\"Number of inactive molecules:  \", list(mols.Active).count('0'))  #Inactive"
   ]
  },
  {
   "cell_type": "code",
   "execution_count": 11,
   "metadata": {
    "colab": {
     "base_uri": "https://localhost:8080/",
     "height": 505
    },
    "colab_type": "code",
    "executionInfo": {
     "elapsed": 690,
     "status": "ok",
     "timestamp": 1551755372167,
     "user": {
      "displayName": "Hatanaka Miho",
      "photoUrl": "",
      "userId": "05760998144601449252"
     },
     "user_tz": -540
    },
    "id": "Fu5P_REM07vL",
    "outputId": "5cc2911c-7d2f-4bd4-9556-da72c8f93368"
   },
   "outputs": [
    {
     "data": {
      "text/html": [
       "<table border=\"1\" class=\"dataframe\">\n",
       "  <thead>\n",
       "    <tr style=\"text-align: right;\">\n",
       "      <th></th>\n",
       "      <th>Active</th>\n",
       "      <th>DSSTox_CID</th>\n",
       "      <th>FW</th>\n",
       "      <th>Formula</th>\n",
       "      <th>ID</th>\n",
       "      <th>Molecule</th>\n",
       "      <th>SMILES</th>\n",
       "    </tr>\n",
       "  </thead>\n",
       "  <tbody>\n",
       "    <tr>\n",
       "      <th>0</th>\n",
       "      <td>0</td>\n",
       "      <td>26683</td>\n",
       "      <td>1342.5025 (1282.4505+60.0520)</td>\n",
       "      <td>C66H87N17O14</td>\n",
       "      <td>NCGC00167516-01</td>\n",
       "      <td><img src=\"data:image/png;base64,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\" alt=\"Mol\"/></td>\n",
       "      <td>CC(=O)O.CCNC(=O)C1CCCN1C(=O)C(CCCNC(=N)N)NC(=O)C(CC(C)C)NC(=O)C(Cc1c[nH]c2ccccc12)NC(=O)C(Cc1ccc(O)cc1)NC(=O)C(CO)NC(=O)C(Cc1c[nH]c2ccccc12)NC(=O)C(Cc1c[nH]cn1)NC(=O)C1CCC(=O)N1</td>\n",
       "    </tr>\n",
       "    <tr>\n",
       "      <th>1</th>\n",
       "      <td>0</td>\n",
       "      <td>26837</td>\n",
       "      <td>419.0430 (382.5820+36.4609)</td>\n",
       "      <td>C25H39ClN2O</td>\n",
       "      <td>NCGC00181091-01</td>\n",
       "      <td><img src=\"data:image/png;base64,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\" alt=\"Mol\"/></td>\n",
       "      <td>CCCCCCOc1ccc(C(=N)N(CCCC)CCCC)c2ccccc12.Cl</td>\n",
       "    </tr>\n",
       "  </tbody>\n",
       "</table>"
      ],
      "text/plain": [
       "  Active DSSTox_CID                             FW       Formula               ID                                                                                                                                                                                                                                                                                                                                                                                                                                                                                                                                                                                                                                                                                                                                                                                                                                                                                                                                                                                                                                                                                                                                                                                                                                                                                                                                                                                                                                                                                                                                                                                                                                                                                                                                                                                                                                                                                                                                                                                                                                                                                                                                                                                                                                                                                                                                                                                                                                                                                                                                                                                                                                                                                                                                                                                                                                                                                                                                                                                                                                                                                                                                                                                                                                                                                                                                                                                                                                                                                                                                                                                                                                                                                                                                                                                                                                                                                                                                                                                                                                                                                                                                                                                                                                                                                                                                                                                                                                                                                                                                                                                                                                                                                                                                                                                                                                                                                                                                                                                                                                                                                                                                                                                                                                                                                                                                                                                                                                                                                                                                                                                                                                                                                                                                                                                                                                                                                                                                                                                                                                                                                                                                                                                                                                                                                                                                                                                                                                                                                                                                                                                                                                                                                                                                                                                                                                                                                                                                                                                                                                                                                                                                                                                                                                                                                                                                                                                                                                                                                                                                                                                                                                                                                                                                                                                                                                                                                                                                                                                                                                                                                                                                                                                                                                                                                                                                                                                                                                                                                                                                                                                                                                                                                                                                                                                                                                                                                                                                                                                                                                                                                                                                                                                                                                                                                                                                                                                                                                                                                                                                                                                                                                                                                                                                                                                                                                                                                                                                                                                                                                                                                                                                                                                                                                                                                                                                                                                                                                                                                                                                                                                                                                                                                                                                                                                                                                                                                                                                                                                                                                                                                                                                                                                                                                                                                                                                                                                                                                                                                                                                                                                                                                                                                                                                                                                                                                                                                                                                                                                                                                                                                                                                                                                                                                                                                                                                                                                                                                                                                                                                                                                                                                                                                                                                                                                                                                                                                                                                                                                                                                                                                                                                                                                                                                                                               Molecule                                                                                                                                                                             SMILES\n",
       "0      0      26683  1342.5025 (1282.4505+60.0520)  C66H87N17O14  NCGC00167516-01  <img src=\"data:image/png;base64,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\" alt=\"Mol\"/>  CC(=O)O.CCNC(=O)C1CCCN1C(=O)C(CCCNC(=N)N)NC(=O)C(CC(C)C)NC(=O)C(Cc1c[nH]c2ccccc12)NC(=O)C(Cc1ccc(O)cc1)NC(=O)C(CO)NC(=O)C(Cc1c[nH]c2ccccc12)NC(=O)C(Cc1c[nH]cn1)NC(=O)C1CCC(=O)N1\n",
       "1      0      26837    419.0430 (382.5820+36.4609)   C25H39ClN2O  NCGC00181091-01                                                                                                                                                                                                                                                                                                                                                                                                                                                                                                                                                                                                                                                                                                                                                                                                                                                                                                                                                                                                                                                                                                                                                                                                                                                                                                                                                                                                                                                                                                                                                                                                                                                                                                                                                                                                                                                                                                                                                                                                                                                                                                                                                                                                                                                                                                                                                                                                                                                                                                                                                                                                                                                                                                                                                                                                                                                                                                                                                                                                                                                                                                                                                                                                                                                                                                                                                                                                                                                                                                                                                                                                                                                                                                                                                                                                                                                                                                                                                                                                                                                                                                                                                                                                                                                                                                                                                                                                                      <img src=\"data:image/png;base64,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\" alt=\"Mol\"/>                                                                                                                                         CCCCCCOc1ccc(C(=N)N(CCCC)CCCC)c2ccccc12.Cl"
      ]
     },
     "execution_count": 11,
     "metadata": {
      "tags": []
     },
     "output_type": "execute_result"
    }
   ],
   "source": [
    "mols[['Active', 'DSSTox_CID', 'FW', 'Formula', 'ID', 'Molecule', 'SMILES']].head(2)"
   ]
  },
  {
   "cell_type": "code",
   "execution_count": 12,
   "metadata": {
    "colab": {
     "base_uri": "https://localhost:8080/",
     "height": 901
    },
    "colab_type": "code",
    "executionInfo": {
     "elapsed": 598,
     "status": "ok",
     "timestamp": 1551755385419,
     "user": {
      "displayName": "Hatanaka Miho",
      "photoUrl": "",
      "userId": "05760998144601449252"
     },
     "user_tz": -540
    },
    "id": "frq0UJHH0-OD",
    "outputId": "e408c78a-360f-4814-abc8-fc79bbc9eb37"
   },
   "outputs": [
    {
     "name": "stdout",
     "output_type": "stream",
     "text": [
      "Number of descriptors in the rdkit:  200\n"
     ]
    },
    {
     "data": {
      "text/plain": [
       "array(['MaxEStateIndex', 'MinEStateIndex', 'MaxAbsEStateIndex',\n",
       "       'MinAbsEStateIndex', 'qed', 'MolWt', 'HeavyAtomMolWt',\n",
       "       'ExactMolWt', 'NumValenceElectrons', 'NumRadicalElectrons',\n",
       "       'MaxPartialCharge', 'MinPartialCharge', 'MaxAbsPartialCharge',\n",
       "       'MinAbsPartialCharge', 'FpDensityMorgan1', 'FpDensityMorgan2',\n",
       "       'FpDensityMorgan3', 'BalabanJ', 'BertzCT', 'Chi0', 'Chi0n',\n",
       "       'Chi0v', 'Chi1', 'Chi1n', 'Chi1v', 'Chi2n', 'Chi2v', 'Chi3n',\n",
       "       'Chi3v', 'Chi4n', 'Chi4v', 'HallKierAlpha', 'Ipc', 'Kappa1',\n",
       "       'Kappa2', 'Kappa3', 'LabuteASA', 'PEOE_VSA1', 'PEOE_VSA10',\n",
       "       'PEOE_VSA11', 'PEOE_VSA12', 'PEOE_VSA13', 'PEOE_VSA14',\n",
       "       'PEOE_VSA2', 'PEOE_VSA3', 'PEOE_VSA4', 'PEOE_VSA5', 'PEOE_VSA6',\n",
       "       'PEOE_VSA7', 'PEOE_VSA8', 'PEOE_VSA9', 'SMR_VSA1', 'SMR_VSA10',\n",
       "       'SMR_VSA2', 'SMR_VSA3', 'SMR_VSA4', 'SMR_VSA5', 'SMR_VSA6',\n",
       "       'SMR_VSA7', 'SMR_VSA8', 'SMR_VSA9', 'SlogP_VSA1', 'SlogP_VSA10',\n",
       "       'SlogP_VSA11', 'SlogP_VSA12', 'SlogP_VSA2', 'SlogP_VSA3',\n",
       "       'SlogP_VSA4', 'SlogP_VSA5', 'SlogP_VSA6', 'SlogP_VSA7',\n",
       "       'SlogP_VSA8', 'SlogP_VSA9', 'TPSA', 'EState_VSA1', 'EState_VSA10',\n",
       "       'EState_VSA11', 'EState_VSA2', 'EState_VSA3', 'EState_VSA4',\n",
       "       'EState_VSA5', 'EState_VSA6', 'EState_VSA7', 'EState_VSA8',\n",
       "       'EState_VSA9', 'VSA_EState1', 'VSA_EState10', 'VSA_EState2',\n",
       "       'VSA_EState3', 'VSA_EState4', 'VSA_EState5', 'VSA_EState6',\n",
       "       'VSA_EState7', 'VSA_EState8', 'VSA_EState9', 'FractionCSP3',\n",
       "       'HeavyAtomCount', 'NHOHCount', 'NOCount',\n",
       "       'NumAliphaticCarbocycles', 'NumAliphaticHeterocycles',\n",
       "       'NumAliphaticRings', 'NumAromaticCarbocycles',\n",
       "       'NumAromaticHeterocycles', 'NumAromaticRings', 'NumHAcceptors',\n",
       "       'NumHDonors', 'NumHeteroatoms', 'NumRotatableBonds',\n",
       "       'NumSaturatedCarbocycles', 'NumSaturatedHeterocycles',\n",
       "       'NumSaturatedRings', 'RingCount', 'MolLogP', 'MolMR', 'fr_Al_COO',\n",
       "       'fr_Al_OH', 'fr_Al_OH_noTert', 'fr_ArN', 'fr_Ar_COO', 'fr_Ar_N',\n",
       "       'fr_Ar_NH', 'fr_Ar_OH', 'fr_COO', 'fr_COO2', 'fr_C_O',\n",
       "       'fr_C_O_noCOO', 'fr_C_S', 'fr_HOCCN', 'fr_Imine', 'fr_NH0',\n",
       "       'fr_NH1', 'fr_NH2', 'fr_N_O', 'fr_Ndealkylation1',\n",
       "       'fr_Ndealkylation2', 'fr_Nhpyrrole', 'fr_SH', 'fr_aldehyde',\n",
       "       'fr_alkyl_carbamate', 'fr_alkyl_halide', 'fr_allylic_oxid',\n",
       "       'fr_amide', 'fr_amidine', 'fr_aniline', 'fr_aryl_methyl',\n",
       "       'fr_azide', 'fr_azo', 'fr_barbitur', 'fr_benzene',\n",
       "       'fr_benzodiazepine', 'fr_bicyclic', 'fr_diazo',\n",
       "       'fr_dihydropyridine', 'fr_epoxide', 'fr_ester', 'fr_ether',\n",
       "       'fr_furan', 'fr_guanido', 'fr_halogen', 'fr_hdrzine', 'fr_hdrzone',\n",
       "       'fr_imidazole', 'fr_imide', 'fr_isocyan', 'fr_isothiocyan',\n",
       "       'fr_ketone', 'fr_ketone_Topliss', 'fr_lactam', 'fr_lactone',\n",
       "       'fr_methoxy', 'fr_morpholine', 'fr_nitrile', 'fr_nitro',\n",
       "       'fr_nitro_arom', 'fr_nitro_arom_nonortho', 'fr_nitroso',\n",
       "       'fr_oxazole', 'fr_oxime', 'fr_para_hydroxylation', 'fr_phenol',\n",
       "       'fr_phenol_noOrthoHbond', 'fr_phos_acid', 'fr_phos_ester',\n",
       "       'fr_piperdine', 'fr_piperzine', 'fr_priamide', 'fr_prisulfonamd',\n",
       "       'fr_pyridine', 'fr_quatN', 'fr_sulfide', 'fr_sulfonamd',\n",
       "       'fr_sulfone', 'fr_term_acetylene', 'fr_tetrazole', 'fr_thiazole',\n",
       "       'fr_thiocyan', 'fr_thiophene', 'fr_unbrch_alkane', 'fr_urea'],\n",
       "      dtype='<U24')"
      ]
     },
     "execution_count": 12,
     "metadata": {
      "tags": []
     },
     "output_type": "execute_result"
    }
   ],
   "source": [
    "names = [x[0] for x in Descriptors._descList]\n",
    "print(\"Number of descriptors in the rdkit: \", len(names))\n",
    "np.array(names)\n"
   ]
  },
  {
   "cell_type": "code",
   "execution_count": 13,
   "metadata": {
    "colab": {
     "base_uri": "https://localhost:8080/",
     "height": 590
    },
    "colab_type": "code",
    "executionInfo": {
     "elapsed": 37465,
     "status": "ok",
     "timestamp": 1551755435544,
     "user": {
      "displayName": "Hatanaka Miho",
      "photoUrl": "",
      "userId": "05760998144601449252"
     },
     "user_tz": -540
    },
    "id": "TqJfSEsk1Bez",
    "outputId": "e2be5a9d-3e35-4792-a0a5-93bf4124c03e"
   },
   "outputs": [
    {
     "name": "stderr",
     "output_type": "stream",
     "text": [
      "/usr/local/lib/python3.6/dist-packages/numpy/lib/function_base.py:2831: RuntimeWarning: divide by zero encountered in ? (vectorized)\n",
      "  outputs = ufunc(*inputs)\n",
      "/usr/local/lib/python3.6/dist-packages/numpy/lib/function_base.py:2831: RuntimeWarning: invalid value encountered in ? (vectorized)\n",
      "  outputs = ufunc(*inputs)\n"
     ]
    },
    {
     "name": "stdout",
     "output_type": "stream",
     "text": [
      "shape of data : (9357, 23)\n"
     ]
    },
    {
     "data": {
      "text/html": [
       "<table border=\"1\" class=\"dataframe\">\n",
       "  <thead>\n",
       "    <tr style=\"text-align: right;\">\n",
       "      <th></th>\n",
       "      <th>Active</th>\n",
       "      <th>DSSTox_CID</th>\n",
       "      <th>FW</th>\n",
       "      <th>Formula</th>\n",
       "      <th>ID</th>\n",
       "      <th>Molecule</th>\n",
       "      <th>SMILES</th>\n",
       "      <th>TPSA</th>\n",
       "      <th>MaxPartialCharge</th>\n",
       "      <th>SlogP_VSA1</th>\n",
       "      <th>EState_VSA1</th>\n",
       "      <th>SMR_VSA1</th>\n",
       "      <th>MolLogP</th>\n",
       "      <th>MolMR</th>\n",
       "      <th>BalabanJ</th>\n",
       "      <th>Ipc</th>\n",
       "      <th>HallKierAlpha</th>\n",
       "      <th>Kappa1</th>\n",
       "      <th>Kappa2</th>\n",
       "      <th>Kappa3</th>\n",
       "      <th>RingCount</th>\n",
       "      <th>NumHAcceptors</th>\n",
       "      <th>NumHDonors</th>\n",
       "    </tr>\n",
       "  </thead>\n",
       "  <tbody>\n",
       "    <tr>\n",
       "      <th>0</th>\n",
       "      <td>0</td>\n",
       "      <td>26683</td>\n",
       "      <td>1342.5025 (1282.4505+60.0520)</td>\n",
       "      <td>C66H87N17O14</td>\n",
       "      <td>NCGC00167516-01</td>\n",
       "      <td><img src=\"data:image/png;base64,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\" alt=\"Mol\"/></td>\n",
       "      <td>CC(=O)O.CCNC(=O)C1CCCN1C(=O)C(CCCNC(=N)N)NC(=O)C(CC(C)C)NC(=O)C(Cc1c[nH]c2ccccc12)NC(=O)C(Cc1ccc(O)cc1)NC(=O)C(CO)NC(=O)C(Cc1c[nH]c2ccccc12)NC(=O)C(Cc1c[nH]cn1)NC(=O)C1CCC(=O)N1</td>\n",
       "      <td>482.13</td>\n",
       "      <td>0.299685</td>\n",
       "      <td>58.901554</td>\n",
       "      <td>114.210193</td>\n",
       "      <td>68.059491</td>\n",
       "      <td>-0.45963</td>\n",
       "      <td>355.2076</td>\n",
       "      <td>0.000003</td>\n",
       "      <td>1.754825e+23</td>\n",
       "      <td>-10.85</td>\n",
       "      <td>73.558677</td>\n",
       "      <td>35.596275</td>\n",
       "      <td>21.584998</td>\n",
       "      <td>8</td>\n",
       "      <td>15</td>\n",
       "      <td>18</td>\n",
       "    </tr>\n",
       "    <tr>\n",
       "      <th>1</th>\n",
       "      <td>0</td>\n",
       "      <td>26837</td>\n",
       "      <td>419.0430 (382.5820+36.4609)</td>\n",
       "      <td>C25H39ClN2O</td>\n",
       "      <td>NCGC00181091-01</td>\n",
       "      <td><img src=\"data:image/png;base64,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\" alt=\"Mol\"/></td>\n",
       "      <td>CCCCCCOc1ccc(C(=N)N(CCCC)CCCC)c2ccccc12.Cl</td>\n",
       "      <td>36.32</td>\n",
       "      <td>0.128188</td>\n",
       "      <td>4.736863</td>\n",
       "      <td>0.000000</td>\n",
       "      <td>4.736863</td>\n",
       "      <td>7.44827</td>\n",
       "      <td>129.0507</td>\n",
       "      <td>0.000004</td>\n",
       "      <td>1.997364e+06</td>\n",
       "      <td>-1.74</td>\n",
       "      <td>25.296684</td>\n",
       "      <td>14.275348</td>\n",
       "      <td>7.544791</td>\n",
       "      <td>2</td>\n",
       "      <td>2</td>\n",
       "      <td>1</td>\n",
       "    </tr>\n",
       "  </tbody>\n",
       "</table>"
      ],
      "text/plain": [
       "  Active DSSTox_CID                             FW       Formula               ID                                                                                                                                                                                                                                                                                                                                                                                                                                                                                                                                                                                                                                                                                                                                                                                                                                                                                                                                                                                                                                                                                                                                                                                                                                                                                                                                                                                                                                                                                                                                                                                                                                                                                                                                                                                                                                                                                                                                                                                                                                                                                                                                                                                                                                                                                                                                                                                                                                                                                                                                                                                                                                                                                                                                                                                                                                                                                                                                                                                                                                                                                                                                                                                                                                                                                                                                                                                                                                                                                                                                                                                                                                                                                                                                                                                                                                                                                                                                                                                                                                                                                                                                                                                                                                                                                                                                                                                                                                                                                                                                                                                                                                                                                                                                                                                                                                                                                                                                                                                                                                                                                                                                                                                                                                                                                                                                                                                                                                                                                                                                                                                                                                                                                                                                                                                                                                                                                                                                                                                                                                                                                                                                                                                                                                                                                                                                                                                                                                                                                                                                                                                                                                                                                                                                                                                                                                                                                                                                                                                                                                                                                                                                                                                                                                                                                                                                                                                                                                                                                                                                                                                                                                                                                                                                                                                                                                                                                                                                                                                                                                                                                                                                                                                                                                                                                                                                                                                                                                                                                                                                                                                                                                                                                                                                                                                                                                                                                                                                                                                                                                                                                                                                                                                                                                                                                                                                                                                                                                                                                                                                                                                                                                                                                                                                                                                                                                                                                                                                                                                                                                                                                                                                                                                                                                                                                                                                                                                                                                                                                                                                                                                                                                                                                                                                                                                                                                                                                                                                                                                                                                                                                                                                                                                                                                                                                                                                                                                                                                                                                                                                                                                                                                                                                                                                                                                                                                                                                                                                                                                                                                                                                                                                                                                                                                                                                                                                                                                                                                                                                                                                                                                                                                                                                                                                                                                                                                                                                                                                                                                                                                                                                                                                                                                                                                                                               Molecule                                                                                                                                                                             SMILES    TPSA  MaxPartialCharge  SlogP_VSA1  EState_VSA1   SMR_VSA1  MolLogP     MolMR  BalabanJ           Ipc  HallKierAlpha     Kappa1     Kappa2     Kappa3  RingCount  NumHAcceptors  NumHDonors\n",
       "0      0      26683  1342.5025 (1282.4505+60.0520)  C66H87N17O14  NCGC00167516-01  <img src=\"data:image/png;base64,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\" alt=\"Mol\"/>  CC(=O)O.CCNC(=O)C1CCCN1C(=O)C(CCCNC(=N)N)NC(=O)C(CC(C)C)NC(=O)C(Cc1c[nH]c2ccccc12)NC(=O)C(Cc1ccc(O)cc1)NC(=O)C(CO)NC(=O)C(Cc1c[nH]c2ccccc12)NC(=O)C(Cc1c[nH]cn1)NC(=O)C1CCC(=O)N1  482.13          0.299685   58.901554   114.210193  68.059491 -0.45963  355.2076  0.000003  1.754825e+23         -10.85  73.558677  35.596275  21.584998          8             15          18\n",
       "1      0      26837    419.0430 (382.5820+36.4609)   C25H39ClN2O  NCGC00181091-01                                                                                                                                                                                                                                                                                                                                                                                                                                                                                                                                                                                                                                                                                                                                                                                                                                                                                                                                                                                                                                                                                                                                                                                                                                                                                                                                                                                                                                                                                                                                                                                                                                                                                                                                                                                                                                                                                                                                                                                                                                                                                                                                                                                                                                                                                                                                                                                                                                                                                                                                                                                                                                                                                                                                                                                                                                                                                                                                                                                                                                                                                                                                                                                                                                                                                                                                                                                                                                                                                                                                                                                                                                                                                                                                                                                                                                                                                                                                                                                                                                                                                                                                                                                                                                                                                                                                                                                                                      <img src=\"data:image/png;base64,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\" alt=\"Mol\"/>                                                                                                                                         CCCCCCOc1ccc(C(=N)N(CCCC)CCCC)c2ccccc12.Cl   36.32          0.128188    4.736863     0.000000   4.736863  7.44827  129.0507  0.000004  1.997364e+06          -1.74  25.296684  14.275348   7.544791          2              2           1"
      ]
     },
     "execution_count": 13,
     "metadata": {
      "tags": []
     },
     "output_type": "execute_result"
    }
   ],
   "source": [
    "for desc in ['TPSA','MaxPartialCharge','SlogP_VSA1','EState_VSA1','SMR_VSA1','MolLogP','MolMR','BalabanJ','Ipc','HallKierAlpha','Kappa1','Kappa2','Kappa3','RingCount','NumHAcceptors','NumHDonors']:\n",
    "    exec(\"mols[desc]=vec(Descriptors.{})(mols['Molecule'])\".format(desc))\n",
    "print(\"shape of data : {}\".format(mols.shape))\n",
    "mols.head(2)\n"
   ]
  },
  {
   "cell_type": "code",
   "execution_count": 14,
   "metadata": {
    "colab": {
     "base_uri": "https://localhost:8080/",
     "height": 425
    },
    "colab_type": "code",
    "executionInfo": {
     "elapsed": 539,
     "status": "ok",
     "timestamp": 1551755442687,
     "user": {
      "displayName": "Hatanaka Miho",
      "photoUrl": "",
      "userId": "05760998144601449252"
     },
     "user_tz": -540
    },
    "id": "tnL6AvB21Etz",
    "outputId": "9bd8da79-eb95-4d1a-c97b-7767e0881332"
   },
   "outputs": [
    {
     "name": "stdout",
     "output_type": "stream",
     "text": [
      "Active              False\n",
      "DSSTox_CID          False\n",
      "FW                  False\n",
      "Formula             False\n",
      "ID                  False\n",
      "Molecule            False\n",
      "SMILES              False\n",
      "TPSA                False\n",
      "MaxPartialCharge     True\n",
      "SlogP_VSA1          False\n",
      "EState_VSA1         False\n",
      "SMR_VSA1            False\n",
      "MolLogP             False\n",
      "MolMR               False\n",
      "BalabanJ            False\n",
      "Ipc                 False\n",
      "HallKierAlpha       False\n",
      "Kappa1              False\n",
      "Kappa2              False\n",
      "Kappa3              False\n",
      "RingCount           False\n",
      "NumHAcceptors       False\n",
      "NumHDonors          False\n",
      "dtype: bool\n"
     ]
    }
   ],
   "source": [
    "print(mols.isnull().any())"
   ]
  },
  {
   "cell_type": "code",
   "execution_count": 0,
   "metadata": {
    "colab": {},
    "colab_type": "code",
    "id": "IL7cbV1g1Pec"
   },
   "outputs": [],
   "source": [
    "mols_desc=mols.drop([\"MaxPartialCharge\",\"Ipc\",\"Kappa3\", \"Active\", \"DSSTox_CID\", \"FW\", \"Formula\", \"ID\", \"Molecule\", \"SMILES\"], axis=1)"
   ]
  },
  {
   "cell_type": "code",
   "execution_count": 16,
   "metadata": {
    "colab": {
     "base_uri": "https://localhost:8080/",
     "height": 134
    },
    "colab_type": "code",
    "executionInfo": {
     "elapsed": 535,
     "status": "error",
     "timestamp": 1551755466252,
     "user": {
      "displayName": "Hatanaka Miho",
      "photoUrl": "",
      "userId": "05760998144601449252"
     },
     "user_tz": -540
    },
    "id": "0-to0enY1Sqb",
    "outputId": "a2913733-a9c6-411b-8016-ca59676b2c10"
   },
   "outputs": [
    {
     "ename": "IndentationError",
     "evalue": "ignored",
     "output_type": "error",
     "traceback": [
      "\u001b[0;36m  File \u001b[0;32m\"<ipython-input-16-c1ff81389646>\"\u001b[0;36m, line \u001b[0;32m2\u001b[0m\n\u001b[0;31m    O = []\u001b[0m\n\u001b[0m    ^\u001b[0m\n\u001b[0;31mIndentationError\u001b[0m\u001b[0;31m:\u001b[0m expected an indented block\n"
     ]
    }
   ],
   "source": [
    "def set_color(L):\n",
    "O = []\n",
    "    for l in L:\n",
    "        if l == '1':\n",
    "            O.append(\"red\")\n",
    "        else:\n",
    "            O.append(\"palegreen\")\n",
    "    return O\n",
    "\n",
    "pd.plotting.scatter_matrix(mols_desc,figsize=(16,16), hist_kwds={'bins':15},  \n",
    "                           marker='+', s=8, alpha=.5, c=set_color(mols.Active))\n",
    "plt.show()"
   ]
  },
  {
   "cell_type": "code",
   "execution_count": 0,
   "metadata": {
    "colab": {},
    "colab_type": "code",
    "id": "crujHDSB1VO7"
   },
   "outputs": [],
   "source": [
    "X_train, X_test, y_train, y_test = train_test_split(mols_desc, mols.Active, train_size=0.75, test_size=0.25)"
   ]
  },
  {
   "cell_type": "code",
   "execution_count": 22,
   "metadata": {
    "colab": {
     "base_uri": "https://localhost:8080/",
     "height": 119
    },
    "colab_type": "code",
    "executionInfo": {
     "elapsed": 546,
     "status": "ok",
     "timestamp": 1551755590940,
     "user": {
      "displayName": "Hatanaka Miho",
      "photoUrl": "",
      "userId": "05760998144601449252"
     },
     "user_tz": -540
    },
    "id": "aru1eZKX1hRb",
    "outputId": "4cc2bf58-1512-4e0d-fa96-7324957a4a5c"
   },
   "outputs": [
    {
     "name": "stdout",
     "output_type": "stream",
     "text": [
      "Training Data\n",
      "Number of   active molecules:   281\n",
      "Number of inactive molecules:   6736\n",
      "Test Data\n",
      "Number of   active molecules:   99\n",
      "Number of inactive molecules:   2241\n"
     ]
    }
   ],
   "source": [
    "print(\"Training Data\")\n",
    "print(\"Number of   active molecules:  \", list(y_train).count('1'))\n",
    "print(\"Number of inactive molecules:  \", list(y_train).count('0'))\n",
    "print(\"Test Data\")\n",
    "print(\"Number of   active molecules:  \", list(y_test).count('1'))\n",
    "print(\"Number of inactive molecules:  \", list(y_test).count('0'))"
   ]
  },
  {
   "cell_type": "code",
   "execution_count": 23,
   "metadata": {
    "colab": {
     "base_uri": "https://localhost:8080/",
     "height": 105
    },
    "colab_type": "code",
    "executionInfo": {
     "elapsed": 707,
     "status": "ok",
     "timestamp": 1551755626093,
     "user": {
      "displayName": "Hatanaka Miho",
      "photoUrl": "",
      "userId": "05760998144601449252"
     },
     "user_tz": -540
    },
    "id": "9XtBK1bC1xwr",
    "outputId": "c415b16b-ab14-4b03-d4b8-51f4f4296a15"
   },
   "outputs": [
    {
     "name": "stdout",
     "output_type": "stream",
     "text": [
      "Accuracy on training set: 0.992\n",
      "Accuracy on test set:        0.976\n"
     ]
    },
    {
     "name": "stderr",
     "output_type": "stream",
     "text": [
      "/usr/local/lib/python3.6/dist-packages/sklearn/ensemble/forest.py:246: FutureWarning: The default value of n_estimators will change from 10 in version 0.20 to 100 in 0.22.\n",
      "  \"10 in version 0.20 to 100 in 0.22.\", FutureWarning)\n"
     ]
    }
   ],
   "source": [
    "from sklearn.ensemble import RandomForestClassifier\n",
    "model = RandomForestClassifier(random_state=0)\n",
    "model.fit(X_train, y_train)\n",
    "print(\"Accuracy on training set: {:.3f}\".format(model.score(X_train, y_train)))\n",
    "print(\"Accuracy on test set:        {:.3f}\".format(model.score(X_test,  y_test)))"
   ]
  },
  {
   "cell_type": "code",
   "execution_count": 26,
   "metadata": {
    "colab": {
     "base_uri": "https://localhost:8080/",
     "height": 486
    },
    "colab_type": "code",
    "executionInfo": {
     "elapsed": 622,
     "status": "ok",
     "timestamp": 1551755688232,
     "user": {
      "displayName": "Hatanaka Miho",
      "photoUrl": "",
      "userId": "05760998144601449252"
     },
     "user_tz": -540
    },
    "id": "Q5djMqCw18Nb",
    "outputId": "fad7fee4-ef1e-41a1-ce79-bc4297aa26a8"
   },
   "outputs": [
    {
     "name": "stdout",
     "output_type": "stream",
     "text": [
      "Accuracy on training set: 0.992\n",
      "Accuracy on test set:     0.976\n"
     ]
    },
    {
     "data": {
      "text/html": [
       "<table border=\"1\" class=\"dataframe\">\n",
       "  <thead>\n",
       "    <tr style=\"text-align: right;\">\n",
       "      <th></th>\n",
       "      <th>0</th>\n",
       "    </tr>\n",
       "  </thead>\n",
       "  <tbody>\n",
       "    <tr>\n",
       "      <th>TPSA</th>\n",
       "      <td>0.083489</td>\n",
       "    </tr>\n",
       "    <tr>\n",
       "      <th>SlogP_VSA1</th>\n",
       "      <td>0.069371</td>\n",
       "    </tr>\n",
       "    <tr>\n",
       "      <th>EState_VSA1</th>\n",
       "      <td>0.068415</td>\n",
       "    </tr>\n",
       "    <tr>\n",
       "      <th>SMR_VSA1</th>\n",
       "      <td>0.070850</td>\n",
       "    </tr>\n",
       "    <tr>\n",
       "      <th>MolLogP</th>\n",
       "      <td>0.077801</td>\n",
       "    </tr>\n",
       "    <tr>\n",
       "      <th>MolMR</th>\n",
       "      <td>0.096917</td>\n",
       "    </tr>\n",
       "    <tr>\n",
       "      <th>BalabanJ</th>\n",
       "      <td>0.104642</td>\n",
       "    </tr>\n",
       "    <tr>\n",
       "      <th>HallKierAlpha</th>\n",
       "      <td>0.088685</td>\n",
       "    </tr>\n",
       "    <tr>\n",
       "      <th>Kappa1</th>\n",
       "      <td>0.084645</td>\n",
       "    </tr>\n",
       "    <tr>\n",
       "      <th>Kappa2</th>\n",
       "      <td>0.111901</td>\n",
       "    </tr>\n",
       "    <tr>\n",
       "      <th>RingCount</th>\n",
       "      <td>0.078547</td>\n",
       "    </tr>\n",
       "    <tr>\n",
       "      <th>NumHAcceptors</th>\n",
       "      <td>0.039065</td>\n",
       "    </tr>\n",
       "    <tr>\n",
       "      <th>NumHDonors</th>\n",
       "      <td>0.025671</td>\n",
       "    </tr>\n",
       "  </tbody>\n",
       "</table>"
      ],
      "text/plain": [
       "                      0\n",
       "TPSA           0.083489\n",
       "SlogP_VSA1     0.069371\n",
       "EState_VSA1    0.068415\n",
       "SMR_VSA1       0.070850\n",
       "MolLogP        0.077801\n",
       "MolMR          0.096917\n",
       "BalabanJ       0.104642\n",
       "HallKierAlpha  0.088685\n",
       "Kappa1         0.084645\n",
       "Kappa2         0.111901\n",
       "RingCount      0.078547\n",
       "NumHAcceptors  0.039065\n",
       "NumHDonors     0.025671"
      ]
     },
     "execution_count": 26,
     "metadata": {
      "tags": []
     },
     "output_type": "execute_result"
    }
   ],
   "source": [
    "print(\"Accuracy on training set: {:.3f}\".format(model.score(X_train, y_train)))\n",
    "print(\"Accuracy on test set:     {:.3f}\".format(model.score(X_test , y_test)))\n",
    "df = pd.DataFrame(model.feature_importances_, index = X_train.columns)\n",
    "df"
   ]
  },
  {
   "cell_type": "code",
   "execution_count": 0,
   "metadata": {
    "colab": {},
    "colab_type": "code",
    "id": "__V0w3Vd1_oy"
   },
   "outputs": [],
   "source": []
  }
 ],
 "metadata": {
  "colab": {
   "name": "Untitled2.ipynb のコピー",
   "provenance": [
    {
     "file_id": "1cifvFt0FfGH6M6X3VS7gSSYHiz1Ki5Wd",
     "timestamp": 1551755697503
    }
   ],
   "version": "0.3.2"
  },
  "kernelspec": {
   "display_name": "Python 3",
   "language": "python",
   "name": "python3"
  },
  "language_info": {
   "codemirror_mode": {
    "name": "ipython",
    "version": 3
   },
   "file_extension": ".py",
   "mimetype": "text/x-python",
   "name": "python",
   "nbconvert_exporter": "python",
   "pygments_lexer": "ipython3",
   "version": "3.6.4"
  }
 },
 "nbformat": 4,
 "nbformat_minor": 1
}
